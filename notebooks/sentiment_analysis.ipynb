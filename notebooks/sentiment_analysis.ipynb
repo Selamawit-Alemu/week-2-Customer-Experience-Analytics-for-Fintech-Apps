{
 "cells": [
  {
   "cell_type": "code",
   "execution_count": 4,
   "id": "57292c23-2166-4274-88ed-920d8f325413",
   "metadata": {},
   "outputs": [
    {
     "name": "stderr",
     "output_type": "stream",
     "text": [
      "[nltk_data] Downloading package stopwords to\n",
      "[nltk_data]     C:\\Users\\selam\\AppData\\Roaming\\nltk_data...\n",
      "[nltk_data]   Package stopwords is already up-to-date!\n"
     ]
    },
    {
     "data": {
      "text/plain": [
       "True"
      ]
     },
     "execution_count": 4,
     "metadata": {},
     "output_type": "execute_result"
    }
   ],
   "source": [
    "# Install if not already installed (uncomment to run)\n",
    "# !pip install vaderSentiment textblob nltk sklearn\n",
    "\n",
    "import pandas as pd\n",
    "from vaderSentiment.vaderSentiment import SentimentIntensityAnalyzer\n",
    "from textblob import TextBlob\n",
    "import nltk\n",
    "from sklearn.feature_extraction.text import TfidfVectorizer\n",
    "from sklearn.decomposition import NMF\n",
    "import matplotlib.pyplot as plt\n",
    "import seaborn as sns\n",
    "\n",
    "nltk.download('stopwords')\n"
   ]
  },
  {
   "cell_type": "code",
   "execution_count": 8,
   "id": "a85ecfaa-d05a-4578-b269-edd0bc7a8527",
   "metadata": {},
   "outputs": [
    {
     "data": {
      "text/html": [
       "<div>\n",
       "<style scoped>\n",
       "    .dataframe tbody tr th:only-of-type {\n",
       "        vertical-align: middle;\n",
       "    }\n",
       "\n",
       "    .dataframe tbody tr th {\n",
       "        vertical-align: top;\n",
       "    }\n",
       "\n",
       "    .dataframe thead th {\n",
       "        text-align: right;\n",
       "    }\n",
       "</style>\n",
       "<table border=\"1\" class=\"dataframe\">\n",
       "  <thead>\n",
       "    <tr style=\"text-align: right;\">\n",
       "      <th></th>\n",
       "      <th>review</th>\n",
       "      <th>rating</th>\n",
       "      <th>date</th>\n",
       "      <th>bank</th>\n",
       "      <th>source</th>\n",
       "    </tr>\n",
       "  </thead>\n",
       "  <tbody>\n",
       "    <tr>\n",
       "      <th>0</th>\n",
       "      <td>what is this app problem???</td>\n",
       "      <td>1</td>\n",
       "      <td>2025-06-05</td>\n",
       "      <td>Commercial Bank of Ethiopia</td>\n",
       "      <td>Google Play</td>\n",
       "    </tr>\n",
       "    <tr>\n",
       "      <th>1</th>\n",
       "      <td>the app is proactive and a good connections.</td>\n",
       "      <td>5</td>\n",
       "      <td>2025-06-05</td>\n",
       "      <td>Commercial Bank of Ethiopia</td>\n",
       "      <td>Google Play</td>\n",
       "    </tr>\n",
       "    <tr>\n",
       "      <th>2</th>\n",
       "      <td>I cannot send to cbebirr app. through this app.</td>\n",
       "      <td>3</td>\n",
       "      <td>2025-06-05</td>\n",
       "      <td>Commercial Bank of Ethiopia</td>\n",
       "      <td>Google Play</td>\n",
       "    </tr>\n",
       "    <tr>\n",
       "      <th>3</th>\n",
       "      <td>good</td>\n",
       "      <td>4</td>\n",
       "      <td>2025-06-05</td>\n",
       "      <td>Commercial Bank of Ethiopia</td>\n",
       "      <td>Google Play</td>\n",
       "    </tr>\n",
       "    <tr>\n",
       "      <th>4</th>\n",
       "      <td>not functional</td>\n",
       "      <td>1</td>\n",
       "      <td>2025-06-05</td>\n",
       "      <td>Commercial Bank of Ethiopia</td>\n",
       "      <td>Google Play</td>\n",
       "    </tr>\n",
       "  </tbody>\n",
       "</table>\n",
       "</div>"
      ],
      "text/plain": [
       "                                            review  rating        date  \\\n",
       "0                      what is this app problem???       1  2025-06-05   \n",
       "1     the app is proactive and a good connections.       5  2025-06-05   \n",
       "2  I cannot send to cbebirr app. through this app.       3  2025-06-05   \n",
       "3                                             good       4  2025-06-05   \n",
       "4                                   not functional       1  2025-06-05   \n",
       "\n",
       "                          bank       source  \n",
       "0  Commercial Bank of Ethiopia  Google Play  \n",
       "1  Commercial Bank of Ethiopia  Google Play  \n",
       "2  Commercial Bank of Ethiopia  Google Play  \n",
       "3  Commercial Bank of Ethiopia  Google Play  \n",
       "4  Commercial Bank of Ethiopia  Google Play  "
      ]
     },
     "execution_count": 8,
     "metadata": {},
     "output_type": "execute_result"
    }
   ],
   "source": [
    "df = pd.read_csv('../data/processed/cleaned_reviews.csv')  # Adjust path if needed\n",
    "df.head()\n"
   ]
  },
  {
   "cell_type": "code",
   "execution_count": 11,
   "id": "28344411-619f-4ba0-b080-fdca05944849",
   "metadata": {},
   "outputs": [
    {
     "name": "stdout",
     "output_type": "stream",
     "text": [
      "sentiment\n",
      "positive    638\n",
      "neutral     306\n",
      "negative    176\n",
      "Name: count, dtype: int64\n"
     ]
    }
   ],
   "source": [
    "# Initialize VADER\n",
    "analyzer = SentimentIntensityAnalyzer()\n",
    "\n",
    "# VADER sentiment scores\n",
    "df['vader_compound'] = df['review'].apply(lambda x: analyzer.polarity_scores(x)['compound'])\n",
    "\n",
    "# TextBlob polarity\n",
    "df['textblob_polarity'] = df['review'].apply(lambda x: TextBlob(x).sentiment.polarity)\n",
    "\n",
    "# Classify sentiment based on VADER compound score\n",
    "def classify_sentiment(score):\n",
    "    if score >= 0.05:\n",
    "        return 'positive'\n",
    "    elif score <= -0.05:\n",
    "        return 'negative'\n",
    "    else:\n",
    "        return 'neutral'\n",
    "\n",
    "df['sentiment'] = df['vader_compound'].apply(classify_sentiment)\n",
    "\n",
    "print(df['sentiment'].value_counts())\n"
   ]
  },
  {
   "cell_type": "code",
   "execution_count": 12,
   "id": "33fad062-2523-412d-83e9-59a9449ad1dd",
   "metadata": {},
   "outputs": [
    {
     "data": {
      "image/png": "[encoded data removed]",
      "text/plain": [
       "<Figure size 640x480 with 1 Axes>"
      ]
     },
     "metadata": {},
     "output_type": "display_data"
    }
   ],
   "source": [
    "sns.countplot(data=df, x='sentiment')\n",
    "plt.title('Sentiment Distribution (VADER)')\n",
    "plt.show()\n"
   ]
  },
  {
   "cell_type": "code",
   "execution_count": 15,
   "id": "35faf3ab-2274-48f1-99ac-fcbded3bd44e",
   "metadata": {},
   "outputs": [
    {
     "name": "stdout",
     "output_type": "stream",
     "text": [
      "Topic 0: app + worst + banking + amazing + great + mobile + work\n",
      "Topic 1: good + application + job + work + need + bad + service\n",
      "Topic 2: best + banking + application + mobile + seen + loved + bank\n",
      "Topic 3: nice + apps + bank + service + application + wish + aplication\n",
      "Topic 4: easy + use + bank + fast + dashen + super + reliable\n"
     ]
    }
   ],
   "source": [
    "from sklearn.feature_extraction.text import TfidfVectorizer\n",
    "from sklearn.decomposition import NMF\n",
    "\n",
    "# Use TF-IDF Vectorizer on review content\n",
    "tfidf_vectorizer = TfidfVectorizer(max_df=0.95, min_df=2, stop_words='english')\n",
    "tfidf = tfidf_vectorizer.fit_transform(df['review'])  # <-- assign this\n",
    "\n",
    "# Use NMF for topic modeling\n",
    "nmf = NMF(n_components=5, random_state=42)\n",
    "nmf.fit(tfidf)\n",
    "\n",
    "# Display top keywords per topic\n",
    "def display_topics(model, feature_names, no_top_words):\n",
    "    for topic_idx, topic in enumerate(model.components_):\n",
    "        print(f\"Topic {topic_idx}: \", end='')\n",
    "        print(\" + \".join([feature_names[i] for i in topic.argsort()[:-no_top_words - 1:-1]]))\n",
    "\n",
    "tfidf_feature_names = tfidf_vectorizer.get_feature_names_out()\n",
    "display_topics(nmf, tfidf_feature_names, 7)\n",
    "\n"
   ]
  },
  {
   "cell_type": "code",
   "execution_count": 19,
   "id": "30aef79b-2236-444e-93d9-daee61a5af45",
   "metadata": {},
   "outputs": [
    {
     "data": {
      "text/html": [
       "<div>\n",
       "<style scoped>\n",
       "    .dataframe tbody tr th:only-of-type {\n",
       "        vertical-align: middle;\n",
       "    }\n",
       "\n",
       "    .dataframe tbody tr th {\n",
       "        vertical-align: top;\n",
       "    }\n",
       "\n",
       "    .dataframe thead th {\n",
       "        text-align: right;\n",
       "    }\n",
       "</style>\n",
       "<table border=\"1\" class=\"dataframe\">\n",
       "  <thead>\n",
       "    <tr style=\"text-align: right;\">\n",
       "      <th></th>\n",
       "      <th>review</th>\n",
       "      <th>dominant_topic</th>\n",
       "    </tr>\n",
       "  </thead>\n",
       "  <tbody>\n",
       "    <tr>\n",
       "      <th>0</th>\n",
       "      <td>what is this app problem???</td>\n",
       "      <td>0</td>\n",
       "    </tr>\n",
       "    <tr>\n",
       "      <th>1</th>\n",
       "      <td>the app is proactive and a good connections.</td>\n",
       "      <td>1</td>\n",
       "    </tr>\n",
       "    <tr>\n",
       "      <th>2</th>\n",
       "      <td>I cannot send to cbebirr app. through this app.</td>\n",
       "      <td>0</td>\n",
       "    </tr>\n",
       "    <tr>\n",
       "      <th>3</th>\n",
       "      <td>good</td>\n",
       "      <td>1</td>\n",
       "    </tr>\n",
       "    <tr>\n",
       "      <th>4</th>\n",
       "      <td>not functional</td>\n",
       "      <td>0</td>\n",
       "    </tr>\n",
       "    <tr>\n",
       "      <th>5</th>\n",
       "      <td>everytime you uninstall the app you have to re...</td>\n",
       "      <td>0</td>\n",
       "    </tr>\n",
       "    <tr>\n",
       "      <th>6</th>\n",
       "      <td>mr      space</td>\n",
       "      <td>0</td>\n",
       "    </tr>\n",
       "    <tr>\n",
       "      <th>7</th>\n",
       "      <td>best</td>\n",
       "      <td>2</td>\n",
       "    </tr>\n",
       "    <tr>\n",
       "      <th>8</th>\n",
       "      <td>bezabih</td>\n",
       "      <td>0</td>\n",
       "    </tr>\n",
       "    <tr>\n",
       "      <th>9</th>\n",
       "      <td>Best Mobile Banking app ever</td>\n",
       "      <td>2</td>\n",
       "    </tr>\n",
       "  </tbody>\n",
       "</table>\n",
       "</div>"
      ],
      "text/plain": [
       "                                              review  dominant_topic\n",
       "0                        what is this app problem???               0\n",
       "1       the app is proactive and a good connections.               1\n",
       "2    I cannot send to cbebirr app. through this app.               0\n",
       "3                                               good               1\n",
       "4                                     not functional               0\n",
       "5  everytime you uninstall the app you have to re...               0\n",
       "6                                      mr      space               0\n",
       "7                                               best               2\n",
       "8                                            bezabih               0\n",
       "9                       Best Mobile Banking app ever               2"
      ]
     },
     "execution_count": 19,
     "metadata": {},
     "output_type": "execute_result"
    }
   ],
   "source": [
    "topic_values = nmf.transform(tfidf)\n",
    "df['dominant_topic'] = topic_values.argmax(axis=1)\n",
    "df[['review', 'dominant_topic']].head(10)\n"
   ]
  },
  {
   "cell_type": "code",
   "execution_count": 20,
   "id": "104181ea-f9fc-4039-b239-9a3d1c6042a1",
   "metadata": {},
   "outputs": [
    {
     "name": "stdout",
     "output_type": "stream",
     "text": [
      "topic\n",
      "0    436\n",
      "4    431\n",
      "1    124\n",
      "2     79\n",
      "3     50\n",
      "Name: count, dtype: int64\n",
      "sentiment  negative  neutral  positive\n",
      "topic                                 \n",
      "0               101      176       159\n",
      "1                13        7       104\n",
      "2                 2        2        75\n",
      "3                 3        5        42\n",
      "4                57      116       258\n"
     ]
    }
   ],
   "source": [
    "import numpy as np\n",
    "\n",
    "# Assign topics to reviews\n",
    "topic_values = nmf.transform(tfidf)  # Get topic distribution per review\n",
    "df['topic'] = np.argmax(topic_values, axis=1)\n",
    "\n",
    "# Show number of reviews per topic\n",
    "print(df['topic'].value_counts())\n",
    "\n",
    "# Sentiment distribution per topic\n",
    "sentiment_topic = df.groupby(['topic', 'sentiment']).size().unstack(fill_value=0)\n",
    "print(sentiment_topic)\n"
   ]
  },
  {
   "cell_type": "code",
   "execution_count": 21,
   "id": "a017af70-6efc-436f-a771-16dda3b0eeb8",
   "metadata": {},
   "outputs": [
    {
     "data": {
      "image/png": "[encoded data removed]",
      "text/plain": [
       "<Figure size 1000x600 with 1 Axes>"
      ]
     },
     "metadata": {},
     "output_type": "display_data"
    }
   ],
   "source": [
    "import matplotlib.pyplot as plt\n",
    "\n",
    "sentiment_topic.plot(kind='bar', stacked=True, figsize=(10,6), colormap='Paired')\n",
    "plt.title('Sentiment Distribution by Topic')\n",
    "plt.xlabel('Topic')\n",
    "plt.ylabel('Number of Reviews')\n",
    "plt.xticks(rotation=0)\n",
    "plt.legend(title='Sentiment')\n",
    "plt.show()\n"
   ]
  },
  {
   "cell_type": "code",
   "execution_count": 1,
   "id": "d15b2995-24cd-468c-b500-133ec4ef3d9d",
   "metadata": {},
   "outputs": [
    {
     "ename": "ModuleNotFoundError",
     "evalue": "No module named 'transformers'",
     "output_type": "error",
     "traceback": [
      "\u001b[31m---------------------------------------------------------------------------\u001b[39m",
      "\u001b[31mModuleNotFoundError\u001b[39m                       Traceback (most recent call last)",
      "\u001b[36mCell\u001b[39m\u001b[36m \u001b[39m\u001b[32mIn[1]\u001b[39m\u001b[32m, line 1\u001b[39m\n\u001b[32m----> \u001b[39m\u001b[32m1\u001b[39m \u001b[38;5;28;01mfrom\u001b[39;00m\u001b[38;5;250m \u001b[39m\u001b[34;01mtransformers\u001b[39;00m\u001b[38;5;250m \u001b[39m\u001b[38;5;28;01mimport\u001b[39;00m pipeline\n\u001b[32m      3\u001b[39m \u001b[38;5;66;03m# Load the sentiment analysis pipeline\u001b[39;00m\n\u001b[32m      4\u001b[39m sentiment_model = pipeline(\u001b[33m\"\u001b[39m\u001b[33msentiment-analysis\u001b[39m\u001b[33m\"\u001b[39m, model=\u001b[33m\"\u001b[39m\u001b[33mdistilbert-base-uncased-finetuned-sst-2-english\u001b[39m\u001b[33m\"\u001b[39m)\n",
      "\u001b[31mModuleNotFoundError\u001b[39m: No module named 'transformers'"
     ]
    }
   ],
   "source": [
    "from transformers import pipeline\n",
    "\n",
    "# Load the sentiment analysis pipeline\n",
    "sentiment_model = pipeline(\"sentiment-analysis\", model=\"distilbert-base-uncased-finetuned-sst-2-english\")\n"
   ]
  },
  {
   "cell_type": "code",
   "execution_count": null,
   "id": "0b210474-d8fe-40f2-b00e-0430aa16dec3",
   "metadata": {},
   "outputs": [],
   "source": []
  }
 ],
 "metadata": {
  "kernelspec": {
   "display_name": "Python 3 (ipykernel)",
   "language": "python",
   "name": "python3"
  },
  "language_info": {
   "codemirror_mode": {
    "name": "ipython",
    "version": 3
   },
   "file_extension": ".py",
   "mimetype": "text/x-python",
   "name": "python",
   "nbconvert_exporter": "python",
   "pygments_lexer": "ipython3",
   "version": "3.12.0"
  }
 },
 "nbformat": 4,
 "nbformat_minor": 5
}
